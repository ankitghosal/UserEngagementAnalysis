{
 "cells": [
  {
   "cell_type": "markdown",
   "id": "794dc0ca-00af-42e5-8a08-7f719686eb5f",
   "metadata": {},
   "source": [
    "# Uploading Files & creating Database"
   ]
  },
  {
   "cell_type": "code",
   "execution_count": 1,
   "id": "6c1e9658-0a52-453e-980a-45c9518dd554",
   "metadata": {},
   "outputs": [],
   "source": [
    "import pandas as pd\n",
    "import json\n",
    "from sqlalchemy import create_engine"
   ]
  },
  {
   "cell_type": "code",
   "execution_count": 7,
   "id": "b230c9e9-7cbe-4d5b-a630-6c7044f81bfc",
   "metadata": {},
   "outputs": [],
   "source": [
    "with open(r'D:\\Project Data Set\\yelp_dataset\\yelp_academic_dataset_business.json', encoding='utf-8') as f:\n",
    "    business_data = [json.loads(line) for line in f]\n",
    "business_df = pd.DataFrame(business_data)\n",
    "\n",
    "with open(r'D:\\Project Data Set\\yelp_dataset\\yelp_academic_dataset_checkin.json', encoding= 'utf-8') as f:\n",
    "    checkin_data = [json.loads(line) for line in f]\n",
    "checkin_df = pd.DataFrame(checkin_data)\n",
    "\n",
    "with open(r'D:\\Project Data Set\\yelp_dataset\\yelp_academic_dataset_review.json', encoding= 'utf-8') as f:\n",
    "    review_data = [json.loads(line) for line in f]\n",
    "review_df = pd.DataFrame(review_data)\n",
    "\n",
    "with open(r'D:\\Project Data Set\\yelp_dataset\\yelp_academic_dataset_tip.json', encoding= 'utf-8') as f:\n",
    "    tip_data = [json.loads(line) for line in f]\n",
    "tip_df = pd.DataFrame(tip_data)\n",
    "\n",
    "with open(r'D:\\Project Data Set\\yelp_dataset\\yelp_academic_dataset_user.json', encoding= 'utf-8') as f:\n",
    "    user_data = [json.loads(line) for line in f]\n",
    "user_df = pd.DataFrame(user_data)"
   ]
  },
  {
   "cell_type": "code",
   "execution_count": 8,
   "id": "6d5d4882-08c5-4ad1-a6cf-d7f161c4a8c3",
   "metadata": {},
   "outputs": [
    {
     "name": "stdout",
     "output_type": "stream",
     "text": [
      "(150346, 14)\n",
      "(131930, 2)\n",
      "(6990280, 9)\n",
      "(908915, 5)\n",
      "(1987897, 22)\n"
     ]
    }
   ],
   "source": [
    "print(business_df.shape)\n",
    "print(checkin_df.shape)\n",
    "print(review_df.shape)\n",
    "print(tip_df.shape)\n",
    "print(user_df.shape)"
   ]
  },
  {
   "cell_type": "markdown",
   "id": "4202f8c4-3fbf-4d12-af88-5bc2bf4e3105",
   "metadata": {},
   "source": [
    "### Droping some unnecessary columns"
   ]
  },
  {
   "cell_type": "code",
   "execution_count": 9,
   "id": "62b60150-0b48-4be3-b919-b176fc7411de",
   "metadata": {},
   "outputs": [],
   "source": [
    "business_df.drop(['attributes', 'hours'], axis=1, inplace=True)"
   ]
  },
  {
   "cell_type": "code",
   "execution_count": 14,
   "id": "12b04eb5-cbf7-4617-ae7b-ac2cf78b3e4d",
   "metadata": {},
   "outputs": [],
   "source": [
    "engine = create_engine('sqlite:///yelp.db')\n",
    "\n",
    "def load_dataframe(df, table_name, engine):\n",
    "    df.to_sql(table_name, con=engine, if_exists='replace', index=False)\n",
    "\n",
    "# load each Dataframe into a separate table\n",
    "load_dataframe(business_df, 'business', engine)\n",
    "load_dataframe(checkin_df, 'checkin', engine)\n",
    "load_dataframe(review_df, 'review', engine)\n",
    "load_dataframe(tip_df, 'tip', engine)\n",
    "load_dataframe(user_df, 'user', engine)"
   ]
  },
  {
   "cell_type": "code",
   "execution_count": null,
   "id": "c3216338-9f4d-4efd-9472-659ee37839b8",
   "metadata": {},
   "outputs": [],
   "source": []
  },
  {
   "cell_type": "code",
   "execution_count": null,
   "id": "6c186a26-8400-414e-8c0b-e81d2b854bfc",
   "metadata": {},
   "outputs": [],
   "source": []
  },
  {
   "cell_type": "code",
   "execution_count": null,
   "id": "debb56db-ebd1-470b-8a6f-c01259245e29",
   "metadata": {},
   "outputs": [],
   "source": []
  },
  {
   "cell_type": "code",
   "execution_count": null,
   "id": "cb7ecb9d-dbd0-42fa-9c44-490ddeaa42a7",
   "metadata": {},
   "outputs": [],
   "source": []
  },
  {
   "cell_type": "code",
   "execution_count": null,
   "id": "cc17b98d-b733-4069-8a1b-0ff3064e94cc",
   "metadata": {},
   "outputs": [],
   "source": []
  },
  {
   "cell_type": "code",
   "execution_count": null,
   "id": "f1850a52-be4c-452c-afb8-b96dfee997a1",
   "metadata": {},
   "outputs": [],
   "source": []
  },
  {
   "cell_type": "code",
   "execution_count": null,
   "id": "7f00c862-4741-45cc-9c2e-8ce9956d62c2",
   "metadata": {},
   "outputs": [],
   "source": []
  },
  {
   "cell_type": "code",
   "execution_count": null,
   "id": "19694cfc-4921-47b5-a72c-1d5c4d615e6f",
   "metadata": {},
   "outputs": [],
   "source": []
  },
  {
   "cell_type": "code",
   "execution_count": null,
   "id": "34058248-e297-47c1-b248-02da300a2c3e",
   "metadata": {},
   "outputs": [],
   "source": []
  },
  {
   "cell_type": "code",
   "execution_count": null,
   "id": "aa795047-81e4-4bc1-a6eb-fbc7cac10b52",
   "metadata": {},
   "outputs": [],
   "source": []
  },
  {
   "cell_type": "code",
   "execution_count": null,
   "id": "6dc2023d-3c5f-418c-a3e3-48b755cb6cba",
   "metadata": {},
   "outputs": [],
   "source": []
  },
  {
   "cell_type": "code",
   "execution_count": null,
   "id": "afab0457-201f-4a3c-b4b6-c6b2103ada8d",
   "metadata": {},
   "outputs": [],
   "source": []
  }
 ],
 "metadata": {
  "kernelspec": {
   "display_name": "Python 3 (ipykernel)",
   "language": "python",
   "name": "python3"
  },
  "language_info": {
   "codemirror_mode": {
    "name": "ipython",
    "version": 3
   },
   "file_extension": ".py",
   "mimetype": "text/x-python",
   "name": "python",
   "nbconvert_exporter": "python",
   "pygments_lexer": "ipython3",
   "version": "3.12.7"
  }
 },
 "nbformat": 4,
 "nbformat_minor": 5
}
